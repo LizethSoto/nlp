{
 "cells": [
  {
   "cell_type": "markdown",
   "metadata": {},
   "source": [
    "![agents](images/header.jpg)\n",
    "# Análisis sintáctico\n",
    "### Ramón Soto C. [(rsotoc@moviquest.com)](mailto:rsotoc@moviquest.com/)\n",
    "[ver en nbviewer](http://nbviewer.ipython.org/github/rsotoc/nlp/blob/master/Introducción.ipynb)"
   ]
  },
  {
   "cell_type": "markdown",
   "metadata": {},
   "source": [
    "![ ](images/blank.png)\n",
    "## Definición\n",
    "\n",
    "El objetivo del análisis sintáctico es analizar un flujo de caracteres, o de tokens, e identificar la estructura en frases del mensaje.\n",
    "\n",
    "![](images/nlp02d.png)\n",
    "\n",
    "En las aproximaciones al procesamiento de lenguaje natural basada en [lingüísticas generativas](https://en.wikipedia.org/wiki/Generative_grammar), el análisis sintáctico suele referirse a encontrar la estructura gramatical del texto en términos de las frases que lo conforman. Esta es posiblemente el área mejor establecida en el campo de procesamiento de lenguaje natural."
   ]
  },
  {
   "cell_type": "markdown",
   "metadata": {},
   "source": [
    "## Gramáticas formales\n",
    "\n",
    "Una gramática (formal) se define como la tupla\n",
    "\n",
    "$$G = (N,\\Sigma,P,S)$$\n",
    "\n",
    "donde\n",
    "\n",
    "* $N$ es un conjunto finito de símbolos  no-terminales (variables a substituir)\n",
    "* $\\Sigma$ es un conjunto finito de símbolos terminales llamado el *alfabeto* o *vocabulario*\n",
    "* $S\\in N$ es el *símbolo inicial*, es decir el símbolo no terminal desde donde se inicia la construcción de una *'frase'*\n",
    "* $P$ es un conjunto finito de *reglas de producción*, es decir, reglas que definen cómo pueden irse reemplazando los símbolos no-terminales, desde el símbolo inicial, hasta tener una frase terminada.\n",
    "\n",
    "La forma de las reglas de producción determinan el tipo de gramática y el correspondiente autómata. \n",
    "\n",
    "Cada gramática está asociado a un tipo de *autómata* que sería, en realidad, el responsable de reconocer los patrones generables por la gramática correspondiente.\n",
    "\n",
    "Un lenguaje, es un conjunto de secuencias o cadenas sobre $\\Sigma$: $L(G) \\subseteq \\Sigma^*$. Cuando se aplica la teoría de gramáticas formales al lenguaje natural, el vocabulario es usualmente un conjunto de letras, signos, palabras, morfemas o sonidos.\n",
    "\n",
    "Los tipos principales de autómata están definidos mediante la jerarquía de Chomsky:\n",
    "\n",
    "Gramática | Lenguaje | Autómata\n",
    "-| \n",
    "Tipo 0 | Recursivamente enumerable |\tMáquina de Turing\n",
    "Tipo 1 | Dependiente del contexto | Autómata linealmente acotado\n",
    "Tipo 2 | Independiente del contexto | Autómata de pila\n",
    "Tipo 3 | Regular | Autómata finito\n",
    "\n",
    "El orden del tipo de gramática, en esta jeraarquía, aumenta conforme se agregan restricciones a las reglas de producción y se delimita con ello las producciones que conforman el lenguaje correspondiente. Así, las gramáticas de tipo 1 se obtienen al agregar restricciones a las gramáticas de tipo 0. Estas restricciones tienen el fin de hacer el problema más tratable, lo cual es particularmente importante desde un punto de vista computacional. \n",
    "\n",
    "Las gramáticas de tipo 2 agregan restricciones adicionales a las gramáticas de tipo 1 y en ese punto ya encontramos herramientas automáticas, como la clase **CFG** del módulo [NLTK](http://www.nltk.org) de Python."
   ]
  },
  {
   "cell_type": "code",
   "execution_count": 1,
   "metadata": {
    "collapsed": false
   },
   "outputs": [
    {
     "name": "stdout",
     "output_type": "stream",
     "text": [
      "Grammar with 7 productions (start state = S)\n",
      "    S -> A\n",
      "    A -> 'a' A\n",
      "    A -> '{' B\n",
      "    B -> 'b' C\n",
      "    C -> '}' C\n",
      "    C -> 'c' C\n",
      "    C -> 'c'\n"
     ]
    }
   ],
   "source": [
    "import nltk\n",
    "from nltk.parse.generate import generate\n",
    "from nltk import CFG\n",
    "from IPython.display import Image, display  \n",
    "\n",
    "grammar = nltk.CFG.fromstring(\"\"\"\n",
    "    S -> A\n",
    "    A -> 'a'A\n",
    "    A -> '{' B\n",
    "    B -> 'b'C\n",
    "    C -> '}'C\n",
    "    C -> 'c'C\n",
    "    C -> 'c'\n",
    "    \"\"\")\n",
    "\n",
    "parser = nltk.ChartParser(grammar)\n",
    "print(grammar)"
   ]
  },
  {
   "cell_type": "markdown",
   "metadata": {},
   "source": [
    "Esta gramática permite generar cadenas de letras 'a', seguidas de una 'b' encerrada entre llaves y cualquier cantidad de letras 'c'; por ejemplo la cadena \"aaa{b}ccc\", cuyo árbol de generación es:"
   ]
  },
  {
   "cell_type": "code",
   "execution_count": 2,
   "metadata": {
    "collapsed": false
   },
   "outputs": [
    {
     "name": "stdout",
     "output_type": "stream",
     "text": [
      "Árbol de generación de la cadena \"aaa{b}ccc\"\n"
     ]
    },
    {
     "data": {
      "image/png": "[encoded data removed]",
      "text/plain": [
       "Tree('S', [Tree('A', ['a', Tree('A', ['a', Tree('A', ['a', Tree('A', ['{', Tree('B', ['b', Tree('C', ['}', Tree('C', ['c', Tree('C', ['c', Tree('C', ['c'])])])])])])])])])])"
      ]
     },
     "metadata": {},
     "output_type": "display_data"
    }
   ],
   "source": [
    "X = \"aaa{b}ccc\"\n",
    "print(\"Árbol de generación de la cadena \\\"{}\\\"\".format(X))\n",
    "for tree in parser.parse(list(X)):\n",
    "    display(tree) # tree.draw() arroja una ventana emergente"
   ]
  },
  {
   "cell_type": "markdown",
   "metadata": {},
   "source": [
    "Las gramática de tipo 3 generan lenguajes regulares. Un lenguaje es regular si puede epresarse mediante una expresión regular. Aunque en este curso emplearemos Python como lenguaje de programación, el uso de expresiones regulares es muy similar en otros lenguajes."
   ]
  },
  {
   "cell_type": "markdown",
   "metadata": {},
   "source": [
    "## Gramáticas de tipo 3 y expresiones regulares\n",
    "\n",
    "### El módulo <code>re</code> de Python\n",
    "\n",
    "El módulo <code>re</code> de Python ofrece una colección de métodos para realizar operaciones sobre cadenas empleando expresiones regulares; los siguientes son algunos de los métodos en este módulo:\n",
    "\n",
    "#### <code>re.match(s, string)</code>: \n",
    "Determina si la cadena <code>string</code> inicia con la cadena <code>s</code>:"
   ]
  },
  {
   "cell_type": "code",
   "execution_count": 3,
   "metadata": {
    "collapsed": false
   },
   "outputs": [
    {
     "name": "stdout",
     "output_type": "stream",
     "text": [
      "1. <_sre.SRE_Match object; span=(0, 8), match='La oveja'>\n",
      "2. <_sre.SRE_Match object; span=(0, 14), match='La oveja negra'>\n",
      "3. None\n"
     ]
    }
   ],
   "source": [
    "import re\n",
    "\n",
    "string = \"La oveja negra ya se ha juntado\\n\\\n",
    "a otras ovejas negras como él.\\n\\\n",
    "Como no hay hierba fresca en el prado\\n\\\n",
    "comen coronas de laurel.\"\n",
    "\n",
    "print(\"1.\", re.match(\"La oveja\", string))\n",
    "print(\"2.\", re.match(\"La oveja negra\", string))\n",
    "print(\"3.\", re.match(\"oveja\", string))\n"
   ]
  },
  {
   "cell_type": "markdown",
   "metadata": {},
   "source": [
    "#### <code>re.search(s, string)</code>: \n",
    "Busca si la cadena <code>s</code> es subcadena de <code>string</code> en cualquier punto. Regresa la primera ocurrencia."
   ]
  },
  {
   "cell_type": "code",
   "execution_count": 4,
   "metadata": {
    "collapsed": false
   },
   "outputs": [
    {
     "name": "stdout",
     "output_type": "stream",
     "text": [
      "4. <_sre.SRE_Match object; span=(3, 8), match='oveja'>\n",
      "5. <_sre.SRE_Match object; span=(107, 124), match='coronas de laurel'>\n"
     ]
    }
   ],
   "source": [
    "print(\"4.\", re.search(\"oveja\", string))\n",
    "print(\"5.\", re.search(\"coronas de laurel\", string))"
   ]
  },
  {
   "cell_type": "markdown",
   "metadata": {},
   "source": [
    "#### <code>re.findall(s, string)</code>: \n",
    "Busca todas las ocurrencias de la cadena <code>s</code> en la cadena <code>string</code>, en cualquier punto y regresa las ocurrencias en una lista."
   ]
  },
  {
   "cell_type": "code",
   "execution_count": 5,
   "metadata": {
    "collapsed": false
   },
   "outputs": [
    {
     "name": "stdout",
     "output_type": "stream",
     "text": [
      "6. ['oveja', 'oveja']\n"
     ]
    }
   ],
   "source": [
    "print(\"6.\", re.findall(\"oveja\", string))"
   ]
  },
  {
   "cell_type": "markdown",
   "metadata": {},
   "source": [
    "#### <code>re.finditer(s, string)</code>: \n",
    "Busca todas las ocurrencias de la cadena <code>s</code> en la cadena de <code>string</code> y regresa las ocurrencias en una lista."
   ]
  },
  {
   "cell_type": "code",
   "execution_count": 6,
   "metadata": {
    "collapsed": false
   },
   "outputs": [
    {
     "name": "stdout",
     "output_type": "stream",
     "text": [
      "7. <_sre.SRE_Match object; span=(3, 8), match='oveja'>\n",
      "8. <_sre.SRE_Match object; span=(40, 45), match='oveja'>\n"
     ]
    }
   ],
   "source": [
    "it = re.finditer(\"oveja\", string)\n",
    "res_idx = 7\n",
    "for item in it:\n",
    "    print(\"{}. {}\".format(res_idx, item))\n",
    "    res_idx += 1"
   ]
  },
  {
   "cell_type": "markdown",
   "metadata": {},
   "source": [
    "#### <code>re.sub(s, r, string[, count=0])</code>: \n",
    "Busca todas las ocurrencias de la cadena <code>s</code> en la cadena de <code>string</code> y reemplaza por la cadena <code>r</code>. El argumento opcional <code>count</code> define el número máximo de reemplazos. El valor cero indico \"*todas*\"."
   ]
  },
  {
   "cell_type": "code",
   "execution_count": 7,
   "metadata": {
    "collapsed": false
   },
   "outputs": [
    {
     "name": "stdout",
     "output_type": "stream",
     "text": [
      "9. La nave negra ya se ha juntado\n",
      "a otras naves negras como él.\n",
      "Como no hay hierba fresca en el prado\n",
      "comen coronas de laurel.\n",
      "\n",
      "10. La nave negra ya se ha juntado\n",
      "a otras ovejas negras como él.\n",
      "Como no hay hierba fresca en el prado\n",
      "comen coronas de laurel.\n"
     ]
    }
   ],
   "source": [
    "str0 = re.sub(\"oveja\", \"nave\", string)\n",
    "print(\"9.\", str0)\n",
    "\n",
    "str1 = re.sub(\"oveja\", \"nave\", string, count=1)\n",
    "print(\"\\n10.\", str1)"
   ]
  },
  {
   "cell_type": "markdown",
   "metadata": {},
   "source": [
    "### Representación de patrones mediante expresiones regulares\n",
    "\n",
    "La mayoría de los caracteres en una cadena son identificados de forma literal:"
   ]
  },
  {
   "cell_type": "code",
   "execution_count": 21,
   "metadata": {
    "collapsed": false
   },
   "outputs": [
    {
     "name": "stdout",
     "output_type": "stream",
     "text": [
      "\n",
      "11. La OVEJA negra ya se ha juntado\n",
      "a otras OVEJAs negras como él.\n",
      "Como no hay hierba fresca en el prado\n",
      "comen coronas de laurel.\n"
     ]
    }
   ],
   "source": [
    "print(\"\\n11.\", re.sub(\"oveja\", \"OVEJA\", string))"
   ]
  },
  {
   "cell_type": "markdown",
   "metadata": {},
   "source": [
    "Sin embargo, la utilidad de las expresiones regulares se deriva de su capacidad para describir conjuntos amplios de cadenas mediante patrones. Esto se logra mediante el uso de caracteres especiales:\n",
    "\n",
    "|Caracter |Resultado |\n",
    "|---|----|\n",
    "|**<code>'.'</code>** |El punto se empareja con cualquier caracter excepto el cambio de línea. Si se especifica la bandera <code>DOTALL</code> también empareja con el cambio de línea.|"
   ]
  },
  {
   "cell_type": "code",
   "execution_count": 22,
   "metadata": {
    "collapsed": false
   },
   "outputs": [
    {
     "name": "stdout",
     "output_type": "stream",
     "text": [
      "\n",
      "12. xxxxxxxxxxxxxxxxxxxxxxxxxxxxxxx\n",
      "xxxxxxxxxxxxxxxxxxxxxxxxxxxxxx\n",
      "xxxxxxxxxxxxxxxxxxxxxxxxxxxxxxxxxxxxx\n",
      "xxxxxxxxxxxxxxxxxxxxxxxx\n",
      "\n",
      "13. Incluyendo DOTALL:\n",
      "yyyyyyyyyyyyyyyyyyyyyyyyyyyyyyyyyyyyyyyyyyyyyyyyyyyyyyyyyyyyyyyyyyyyyyyyyyyyyyyyyyyyyyyyyyyyyyyyyyyyyyyyyyyyyyyyyyyyyyyyyyyyy\n"
     ]
    }
   ],
   "source": [
    "print(\"\\n12.\", re.sub(\".\", \"x\", string))\n",
    "\n",
    "print(\"\\n13. Incluyendo DOTALL:\\n{}\".format(re.sub(\".\", \"y\", string, flags=re.DOTALL)))"
   ]
  },
  {
   "cell_type": "markdown",
   "metadata": {},
   "source": [
    "|Caracter |Resultado |\n",
    "|---|----|\n",
    "|**<code>'^'</code>** |Establece que la substitución sólo se hara al inicio de la cadena. Si se especifica la bandera <code>MULTILINE</code> también se realizará al inicio de cada nueva línea.|"
   ]
  },
  {
   "cell_type": "code",
   "execution_count": 23,
   "metadata": {
    "collapsed": false
   },
   "outputs": [
    {
     "name": "stdout",
     "output_type": "stream",
     "text": [
      "\n",
      "14. --a oveja negra ya se ha juntado\n",
      "a otras ovejas negras como él.\n",
      "Como no hay hierba fresca en el prado\n",
      "comen coronas de laurel.\n",
      "\n",
      "15. Incluyendo MULTILINE:\n",
      "--a oveja negra ya se ha juntado\n",
      "-- otras ovejas negras como él.\n",
      "--omo no hay hierba fresca en el prado\n",
      "--omen coronas de laurel.\n"
     ]
    }
   ],
   "source": [
    "print(\"\\n14.\", re.sub(\"^.\", \"--\", string))\n",
    "\n",
    "print(\"\\n15. Incluyendo MULTILINE:\\n{}\".format(re.sub(\"^.\", \"--\", string, flags=re.MULTILINE)))"
   ]
  },
  {
   "cell_type": "markdown",
   "metadata": {},
   "source": [
    "|Caracter |Resultado |\n",
    "|---|----|\n",
    "|**<code>'\\A'</code>** | Establece que la substitución sólo se hara al inicio de la línea. No es afectado por la bandera <code>MULTILINE</code>.|"
   ]
  },
  {
   "cell_type": "code",
   "execution_count": 24,
   "metadata": {
    "collapsed": false,
    "scrolled": true
   },
   "outputs": [
    {
     "name": "stdout",
     "output_type": "stream",
     "text": [
      "\n",
      "16. --a oveja negra ya se ha juntado\n",
      "a otras ovejas negras como él.\n",
      "Como no hay hierba fresca en el prado\n",
      "comen coronas de laurel.\n",
      "\n",
      "17. Incluyendo MULTILINE:\n",
      "--a oveja negra ya se ha juntado\n",
      "a otras ovejas negras como él.\n",
      "Como no hay hierba fresca en el prado\n",
      "comen coronas de laurel.\n"
     ]
    }
   ],
   "source": [
    "print(\"\\n16.\", re.sub(\"\\A.\", \"--\", string))\n",
    "\n",
    "print(\"\\n17. Incluyendo MULTILINE:\\n{}\".format(re.sub(\"\\A.\", \"--\", string, flags=re.MULTILINE)))"
   ]
  },
  {
   "cell_type": "markdown",
   "metadata": {},
   "source": [
    "|Caracter |Resultado |\n",
    "|---|----|\n",
    "|**<code>'$'</code>** |Establece que la substitución sólo se hará al final de la cadena. Si se especifica la bandera <code>MULTILINE</code> también se realizará al final de cada línea.|"
   ]
  },
  {
   "cell_type": "code",
   "execution_count": 25,
   "metadata": {
    "collapsed": false
   },
   "outputs": [
    {
     "name": "stdout",
     "output_type": "stream",
     "text": [
      "\n",
      "18. La oveja negra ya se ha juntado\n",
      "a otras ovejas negras como él.\n",
      "Como no hay hierba fresca en el prado\n",
      "comen coronas de laurel--\n",
      "\n",
      "19. Incluyendo MULTILINE:\n",
      "La oveja negra ya se ha juntad--\n",
      "a otras ovejas negras como él--\n",
      "Como no hay hierba fresca en el prad--\n",
      "comen coronas de laurel--\n"
     ]
    }
   ],
   "source": [
    "print(\"\\n18.\", re.sub(\".$\", \"--\", string))\n",
    "\n",
    "print(\"\\n19. Incluyendo MULTILINE:\\n{}\".format(re.sub(\".$\", \"--\", string, flags=re.MULTILINE)))"
   ]
  },
  {
   "cell_type": "markdown",
   "metadata": {},
   "source": [
    "|Caracter |Resultado |\n",
    "|---|----|\n",
    "|**<code>'[]'</code>** | Define un conjunto de caracteres. Pueden ser individuales (<code>'[abc]'</code>); en rango (<code>'[a-d]'</code>), se puede incluir el signo - utilizando la secuencia de escape <code>'\\\\-'</code> o colocándolo al final del conjunto (<code>'[a-d\\-]'</code>). Caracteres especiales como  <code>'(', '+', '*', or ')'</code> pierden su significado dentro de los corchetes. |"
   ]
  },
  {
   "cell_type": "code",
   "execution_count": 26,
   "metadata": {
    "collapsed": false
   },
   "outputs": [
    {
     "name": "stdout",
     "output_type": "stream",
     "text": [
      "\n",
      "20. Lx ovejx negrx yx se hx juntxdo\n",
      "x otrxs ovejxs negrxs xomo él.\n",
      "Como no hxy hierxx fresxx en el prxdo\n",
      "xomen xoronxs de lxurel.\n",
      "\n",
      "21. La ovxja nxxra ya sx ha juntaxo\n",
      "a otras ovxjas nxxras como él.\n",
      "Como no hay hixrba xrxsca xn xl praxo\n",
      "comxn coronas xx laurxl.\n",
      "\n",
      "22. --a oveja negra ya se ha juntado -> xxx ovexx negrx yx se hx xuntxxo\n",
      "\n",
      "23. La estrella de Kleene (*)... -> La estrella de Kleene xxx...\n"
     ]
    }
   ],
   "source": [
    "print(\"\\n20.\", re.sub(\"[abc]\", \"x\", string))\n",
    "\n",
    "print(\"\\n21. {}\".format(re.sub(\"[d-g]\", \"x\", string)))\n",
    "\n",
    "print(\"\\n22. {} -> {}\".format(\"--a oveja negra ya se ha juntado\",\n",
    "                          re.sub(\"[a-d\\-j]\", \"x\", \"--a oveja negra ya se ha juntado\")))\n",
    "\n",
    "print(\"\\n23. {} -> {}\".format(\"La estrella de Kleene (*)...\",\n",
    "                          re.sub(\"[(+*)]\", \"x\", \"La estrella de Kleene (*)...\")))"
   ]
  },
  {
   "cell_type": "markdown",
   "metadata": {},
   "source": [
    "|Caracter |Resultado |\n",
    "|---|----|\n",
    "|**<code>\\w</code>** | Empareja con cualquier caracter de palabra: Un caracter unicode, un ideograma, un dígito o el guión bajo. |\n",
    "|**<code>\\W</code>** | Empareja con cualquier caracter que NO sea un caracter de palabra. |"
   ]
  },
  {
   "cell_type": "code",
   "execution_count": 27,
   "metadata": {
    "collapsed": false
   },
   "outputs": [
    {
     "name": "stdout",
     "output_type": "stream",
     "text": [
      "\n",
      "24. La estrella_de_Kleene (*)... -> aa aaaaaaaaaaaaaaaaaa (*)...\n",
      "\n",
      "25. La estrella_de_Kleene (*)... -> La-estrella_de_Kleene-------\n"
     ]
    }
   ],
   "source": [
    "print(\"\\n24. {} -> {}\".format(\"La estrella_de_Kleene (*)...\",\n",
    "                          re.sub(\"\\w\", \"a\", \"La estrella_de_Kleene (*)...\")))\n",
    "\n",
    "print(\"\\n25. {} -> {}\".format(\"La estrella_de_Kleene (*)...\",\n",
    "                          re.sub(\"\\W\", \"-\", \"La estrella_de_Kleene (*)...\")))"
   ]
  },
  {
   "cell_type": "markdown",
   "metadata": {},
   "source": [
    "|Caracter |Resultado |\n",
    "|---|----|\n",
    "|**<code>\\s</code>** | Empareja con cualquier caracter de espacio; cualquier separador unicode. |\n",
    "|**<code>\\S</code>** | Empareja con cualquier caracter que NO sea un caracter de espacio/separeador. |"
   ]
  },
  {
   "cell_type": "code",
   "execution_count": 28,
   "metadata": {
    "collapsed": false
   },
   "outputs": [
    {
     "name": "stdout",
     "output_type": "stream",
     "text": [
      "\n",
      "26. La estrella_de_Kleene (*)... -> aa aaaaaaaaaaaaaaaaaa (*)...\n",
      "\n",
      "27. La estrella_de_Kleene (*)... -> La-estrella_de_Kleene-------\n"
     ]
    }
   ],
   "source": [
    "print(\"\\n26. {} -> {}\".format(\"La estrella_de_Kleene (*)...\",\n",
    "                          re.sub(\"\\w\", \"a\", \"La estrella_de_Kleene (*)...\")))\n",
    "\n",
    "print(\"\\n27. {} -> {}\".format(\"La estrella_de_Kleene (*)...\",\n",
    "                          re.sub(\"\\W\", \"-\", \"La estrella_de_Kleene (*)...\")))"
   ]
  },
  {
   "cell_type": "markdown",
   "metadata": {},
   "source": [
    "|Caracter |Resultado |\n",
    "|---|----|\n",
    "|**<code>\\num** | Hace referencia al grupo que aparece en el orden señalado por *num*. Cada grupo se define mediante paréntesis. <code>\\1</code> es, por ejemplo, el primer grupo que aparece en la expresión regular <code><([\\w]+).*>(.*?)<\\/\\1></code>. En este caso la diagonal <code>\\</code> se lee por separado de a etiqueta numérica, de manera que hay que utilizar cadenas en bruto (<code>r\"\\1\"</code>) o especificar que se trata del caracter diagonal (<code>\"\\\\\\1\"</code>).|"
   ]
  },
  {
   "cell_type": "code",
   "execution_count": 84,
   "metadata": {
    "collapsed": false
   },
   "outputs": [
    {
     "name": "stdout",
     "output_type": "stream",
     "text": [
      "\n",
      "28. La oveja oveja negra ya se ha juntado -> La oveja negra ya se ha juntado\n"
     ]
    }
   ],
   "source": [
    "print(\"\\n28. {} -> {}\".format(\"La oveja oveja negra ya se ha juntado\", \n",
    "                              re.sub(r\"(\\w+)\\s+\\1\", \"\\\\1\", \"La oveja oveja negra ya se ha juntado\")))"
   ]
  },
  {
   "cell_type": "code",
   "execution_count": 68,
   "metadata": {
    "collapsed": false
   },
   "outputs": [
    {
     "name": "stdout",
     "output_type": "stream",
     "text": [
      "\n",
      "--a oveja negra ya se ha juntado -> xxx ovexx negrx yx se hx xuntxxo\n"
     ]
    }
   ],
   "source": [
    "print(\"\\n{} -> {}\".format(\"--a oveja negra ya se ha juntado\",\n",
    "                          re.sub(\"[a-d\\-j]\", \"x\", \"--a oveja negra ya se ha juntado\")))"
   ]
  },
  {
   "cell_type": "code",
   "execution_count": null,
   "metadata": {
    "collapsed": false
   },
   "outputs": [],
   "source": [
    "re.search('={3}[\\w]+={3}', \"EJEMPLO ===funciona==parece\") "
   ]
  },
  {
   "cell_type": "markdown",
   "metadata": {},
   "source": [
    "* URL's: <code>\\w+:\\/{2}[\\d\\w-]+(&#92;.[\\d\\w-]+)&#42;(?:(?:\\/[^\\s/]&#42;))&#42;</code>\n",
    "![](images/regex01.png)<br>\n",
    "\n",
    "* Tags de HTML: <code>(?i)<\\/?\\w+((\\s+\\w+(\\s&#42;=\\s&#42;(?:\\\".&#42;?\\\"|'.&#42;?'|[^'\\\">\\s]+))?)+\\s&#42;|\\s&#42;)\\/?></code>\n",
    "![](images/regex02.png)<br>\n",
    "\n",
    "* Passwords: <code>((?=.&#42;\\d)(?=.&#42;[a-z])(?=.&#42;[A-Z])(?=.&#42;[@#$%]).{6,20})</code>\n",
    "![](images/regex03.png)<br>\n",
    "\n",
    "* Tags de HTML: <code><([\\w]+).&#42;>(.&#42;?)<\\/\\1></code>\n",
    "![](images/regex04.png)<br>"
   ]
  },
  {
   "cell_type": "markdown",
   "metadata": {},
   "source": [
    "## Conclusiones\n",
    "\n",
    "<hr style=\"border-width: 3px;\">\n",
    "\n",
    "### Tarea 1\n",
    "\n",
    "Describa un problema de reconocimiento de patrones de su interés y explique por qué un modelo tradicional sería inapropiado para resolverlo (utilice la celda siguiente, en esta libreta, para presentar su problema seleccionado).\n",
    "\n",
    "**Fecha de entrega**: Viernes 20 de enero."
   ]
  },
  {
   "cell_type": "code",
   "execution_count": null,
   "metadata": {
    "collapsed": true
   },
   "outputs": [],
   "source": []
  }
 ],
 "metadata": {
  "celltoolbar": "Raw Cell Format",
  "kernelspec": {
   "display_name": "Python 3",
   "language": "python",
   "name": "python3"
  },
  "language_info": {
   "codemirror_mode": {
    "name": "ipython",
    "version": 3
   },
   "file_extension": ".py",
   "mimetype": "text/x-python",
   "name": "python",
   "nbconvert_exporter": "python",
   "pygments_lexer": "ipython3",
   "version": "3.6.0"
  }
 },
 "nbformat": 4,
 "nbformat_minor": 0
}
